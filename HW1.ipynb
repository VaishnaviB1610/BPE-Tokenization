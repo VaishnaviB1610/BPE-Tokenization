{
 "cells": [
  {
   "cell_type": "markdown",
   "id": "0bd6083b-d733-4c02-83f1-35ab02ca80a9",
   "metadata": {},
   "source": [
    "### 1. Implement BPE Algorithm"
   ]
  },
  {
   "cell_type": "code",
   "execution_count": 121,
   "id": "bcd8ff60-4a0b-4c2b-b835-f463bf28ae82",
   "metadata": {},
   "outputs": [
    {
     "name": "stderr",
     "output_type": "stream",
     "text": [
      "[nltk_data] Downloading package punkt to\n",
      "[nltk_data]     /Users/vaishnavibhutada/nltk_data...\n",
      "[nltk_data]   Package punkt is already up-to-date!\n"
     ]
    }
   ],
   "source": [
    "import nltk\n",
    "from nltk.tokenize import word_tokenize\n",
    "from collections import defaultdict\n",
    "\n",
    "nltk.download('punkt')\n",
    "from nltk.corpus import gutenberg\n",
    "\n",
    "def bpe_algorithm(tokens, num_merges=1000):\n",
    "    vocab = {}\n",
    "    for token in tokens:\n",
    "        token = ' '.join(list(token))  # Split each word into characters\n",
    "        vocab[token] = vocab.get(token, 0) + 1\n",
    "\n",
    "    merges = []\n",
    "    for i in range(num_merges):\n",
    "        pairs = {}\n",
    "        for word in vocab:\n",
    "            symbols = word.split()\n",
    "            for j in range(len(symbols) - 1):\n",
    "                pair = (symbols[j], symbols[j + 1])\n",
    "                pairs[pair] = pairs.get(pair, 0) + vocab[word]\n",
    "\n",
    "        if not pairs:\n",
    "            break\n",
    "        \n",
    "        best_pair = max(pairs, key=pairs.get)\n",
    "        merges.append(best_pair)\n",
    "\n",
    "        bigram = ' '.join(best_pair)\n",
    "        replacement = ''.join(best_pair)\n",
    "        new_vocab = {}\n",
    "        for word in vocab:\n",
    "            new_word = word.replace(bigram, replacement)\n",
    "            new_vocab[new_word] = vocab[word]\n",
    "        vocab = new_vocab\n",
    "\n",
    "    return merges, vocab\n"
   ]
  },
  {
   "cell_type": "markdown",
   "id": "0ce4bd0e-6e69-4512-8a0d-d30293338a32",
   "metadata": {},
   "source": [
    "### 2. Train on NLTK Dataset"
   ]
  },
  {
   "cell_type": "code",
   "execution_count": 124,
   "id": "7e3487a7-95d8-49c0-93fe-860987333fba",
   "metadata": {},
   "outputs": [],
   "source": [
    "training_books = ['austen-emma.txt', 'shakespeare-hamlet.txt', 'melville-moby_dick.txt']\n",
    "training_text = ' '.join([gutenberg.raw(book) for book in training_books])\n",
    "\n",
    "train_tokens = training_text.split()\n",
    "\n",
    "# Apply BPE to training data\n",
    "merges, vocab = bpe_algorithm(train_tokens, num_merges=1000)\n"
   ]
  },
  {
   "cell_type": "markdown",
   "id": "11849a51-9b72-4106-9a44-f51304151fc1",
   "metadata": {},
   "source": [
    "### 3 . Test on NLTK Dataset (3 marks)"
   ]
  },
  {
   "cell_type": "code",
   "execution_count": 126,
   "id": "149a40dd-e79f-4a2f-b0e3-d3f773c53d49",
   "metadata": {},
   "outputs": [],
   "source": [
    "testing_books = ['bible-kjv.txt', 'blake-poems.txt', 'whitman-leaves.txt']\n",
    "testing_text = ' '.join([gutenberg.raw(book) for book in testing_books])\n",
    "\n",
    "punkt_tokens = word_tokenize(testing_text)\n",
    "\n",
    "def apply_bpe_to_test_data(test_tokens, merges):\n",
    "    for merge in merges:\n",
    "        old_pair = ' '.join(merge)\n",
    "        new_pair = ''.join(merge)\n",
    "        test_tokens = [token.replace(old_pair, new_pair) for token in test_tokens]\n",
    "    return test_tokens\n",
    "\n",
    "bpe_test_tokens = apply_bpe_to_test_data(testing_text.split(), merges)\n",
    "\n",
    "bpe_test_tokens = [token.lower().strip() for token in bpe_test_tokens]\n",
    "punkt_tokens = [token.lower().strip() for token in punkt_tokens]\n"
   ]
  },
  {
   "cell_type": "markdown",
   "id": "1831e6d2-3e1f-4e0b-928a-0be5827af2a3",
   "metadata": {},
   "source": [
    "### 4 Create Reference Tokenization\n"
   ]
  },
  {
   "cell_type": "code",
   "execution_count": 128,
   "id": "effc432d-c263-4416-8e5b-0939a2c8acaf",
   "metadata": {},
   "outputs": [],
   "source": [
    "# Tokenize the test data using punkt tokenizer as reference\n",
    "reference_tokens = word_tokenize(testing_text)\n"
   ]
  },
  {
   "cell_type": "markdown",
   "id": "77000cd3-d6df-4d56-b2fb-e873bf6ac7e5",
   "metadata": {},
   "source": [
    "### 5. Compare with Standard Tokenization:"
   ]
  },
  {
   "cell_type": "code",
   "execution_count": 134,
   "id": "65c6cf5a-d961-4a17-ab75-712283a9bd00",
   "metadata": {},
   "outputs": [
    {
     "name": "stdout",
     "output_type": "stream",
     "text": [
      "Precision: 0.4405, Recall: 0.7860, F1 Score: 0.5646\n",
      "Jaccard Similarity: 0.3933\n"
     ]
    }
   ],
   "source": [
    "# Precision, Recall, F1 score calculation\n",
    "true_positives = len(set(bpe_test_tokens) & set(punkt_tokens))\n",
    "false_positives = len(set(bpe_test_tokens) - set(punkt_tokens))\n",
    "false_negatives = len(set(punkt_tokens) - set(bpe_test_tokens))\n",
    "\n",
    "precision = true_positives / (true_positives + false_positives) if true_positives + false_positives > 0 else 0\n",
    "recall = true_positives / (true_positives + false_negatives) if true_positives + false_negatives > 0 else 0\n",
    "f1 = 2 * (precision * recall) / (precision + recall) if precision + recall > 0 else 0\n",
    "\n",
    "print(f\"Precision: {precision:.4f}, Recall: {recall:.4f}, F1 Score: {f1:.4f}\")\n",
    "\n",
    "# Jaccard Similarity between BPE and reference tokenization\n",
    "def jaccard_similarity(set1, set2):\n",
    "    intersection = len(set1 & set2)  \n",
    "    union = len(set1 | set2)  \n",
    "    return intersection / union if union != 0 else 0\n",
    "\n",
    "bpe_tokens_set = set(bpe_test_tokens)\n",
    "punkt_tokens_set = set(punkt_tokens)\n",
    "\n",
    "jaccard_score = jaccard_similarity(bpe_tokens_set, punkt_tokens_set)\n",
    "\n",
    "print(f\"Jaccard Similarity: {jaccard_score:.4f}\")\n",
    "\n"
   ]
  },
  {
   "cell_type": "markdown",
   "id": "3c47556d-1aeb-4e47-a625-def326b333eb",
   "metadata": {},
   "source": [
    "### 6) Visualization"
   ]
  },
  {
   "cell_type": "code",
   "execution_count": 101,
   "id": "5fb03a49-a02e-4cd1-b5db-b0d80a1f9683",
   "metadata": {},
   "outputs": [
    {
     "name": "stdout",
     "output_type": "stream",
     "text": [
      "Vocabulary size before BPE: 5515\n",
      "Vocabulary size after BPE: 65\n"
     ]
    },
    {
     "data": {
      "image/png": "[encoded data removed]",
      "text/plain": [
       "<Figure size 800x600 with 1 Axes>"
      ]
     },
     "metadata": {},
     "output_type": "display_data"
    }
   ],
   "source": [
    "import matplotlib.pyplot as plt\n",
    "\n",
    "text = gutenberg.raw('shakespeare-hamlet.txt')\n",
    "\n",
    "tokens = word_tokenize(text)\n",
    "\n",
    "before_vocab_size = len(set(tokens))  # Unique tokens\n",
    "print(f\"Vocabulary size before BPE: {before_vocab_size}\")\n",
    "\n",
    "bpe_tokens = []\n",
    "for token in tokens:\n",
    "    \n",
    "    bpe_tokens.extend(list(token))\n",
    "\n",
    "# Calculate the vocabulary size after BPE\n",
    "after_vocab_size = len(set(bpe_tokens))  \n",
    "print(f\"Vocabulary size after BPE: {after_vocab_size}\")\n",
    "\n",
    "def plot_vocab_comparison(before_vocab_size, after_vocab_size):\n",
    "    labels = ['Before BPE', 'After BPE']\n",
    "    sizes = [before_vocab_size, after_vocab_size]\n",
    "    \n",
    "    plt.figure(figsize=(8, 6))\n",
    "    plt.bar(labels, sizes, color=['skyblue', 'lightcoral'])\n",
    "    plt.title('Vocabulary Size: Before vs After BPE')\n",
    "    plt.ylabel('Vocabulary Size')\n",
    "    plt.grid(True)\n",
    "    plt.tight_layout()\n",
    "    plt.show()\n",
    "\n",
    "plot_vocab_comparison(before_vocab_size, after_vocab_size)\n"
   ]
  },
  {
   "cell_type": "code",
   "execution_count": 117,
   "id": "cc43c3f8-7b3f-4121-8c0b-9b9e6821a951",
   "metadata": {},
   "outputs": [
    {
     "data": {
      "image/png": "[encoded data removed]",
      "text/plain": [
       "<Figure size 1000x600 with 1 Axes>"
      ]
     },
     "metadata": {},
     "output_type": "display_data"
    }
   ],
   "source": [
    "\n",
    "text = nltk.corpus.gutenberg.raw('shakespeare-hamlet.txt')\n",
    "\n",
    "tokens = nltk.word_tokenize(text)\n",
    "\n",
    "def get_byte_pair_frequencies(tokens):\n",
    "    pair_freq = defaultdict(int)\n",
    "    \n",
    "    \n",
    "    for word in tokens:\n",
    "        for i in range(len(word) - 1):\n",
    "            pair = (word[i], word[i + 1])  \n",
    "            pair_freq[pair] += 1\n",
    "    \n",
    "    return pair_freq\n",
    "\n",
    "# Get the frequencies of adjacent character pairs (this is for demonstration)\n",
    "pair_frequencies = get_byte_pair_frequencies(tokens)\n",
    "\n",
    "# Sort the pairs by frequency\n",
    "sorted_pairs = sorted(pair_frequencies.items(), key=lambda x: x[1], reverse=True)\n",
    "\n",
    "# Display the top 10 frequent pairs (for visualization purposes)\n",
    "top_pairs = sorted_pairs[:10]\n",
    "\n",
    "merge_frequencies = dict(top_pairs)\n",
    "\n",
    "def plot_merge_frequencies(merge_frequencies):\n",
    "    \"\"\"\n",
    "    Plots the frequencies of byte pair merges.\n",
    "    \n",
    "    merge_frequencies: A dictionary of (pair, frequency) where pair is a tuple (char1, char2)\n",
    "    \"\"\"\n",
    "    pairs = list(merge_frequencies.keys())\n",
    "    frequencies = list(merge_frequencies.values())\n",
    "    \n",
    "    # Convert pairs to strings for better visualization \n",
    "    pair_strings = [''.join(pair) for pair in pairs]\n",
    "    \n",
    "    # Create the bar plot\n",
    "    plt.figure(figsize=(10, 6))\n",
    "    plt.bar(pair_strings, frequencies, color='skyblue')\n",
    "    plt.title('Top Byte Pair Merge Frequencies')\n",
    "    plt.xlabel('Byte Pair')\n",
    "    plt.ylabel('Frequency')\n",
    "    plt.xticks(rotation=45)\n",
    "    plt.tight_layout()\n",
    "    plt.show()\n",
    "\n",
    "plot_merge_frequencies(merge_frequencies)\n",
    "\n"
   ]
  },
  {
   "cell_type": "code",
   "execution_count": null,
   "id": "665bf1c2-13ba-46e3-a334-5d77f46f809c",
   "metadata": {},
   "outputs": [],
   "source": []
  }
 ],
 "metadata": {
  "kernelspec": {
   "display_name": "Python 3 (ipykernel)",
   "language": "python",
   "name": "python3"
  },
  "language_info": {
   "codemirror_mode": {
    "name": "ipython",
    "version": 3
   },
   "file_extension": ".py",
   "mimetype": "text/x-python",
   "name": "python",
   "nbconvert_exporter": "python",
   "pygments_lexer": "ipython3",
   "version": "3.12.7"
  }
 },
 "nbformat": 4,
 "nbformat_minor": 5
}
